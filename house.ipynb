{
 "cells": [
  {
   "cell_type": "markdown",
   "metadata": {},
   "source": [
    "## Modelo de Evaluation & Validation\n",
    "## Projeto: Prever os preços da habitacao de Boston\n"
   ]
  },
  {
   "cell_type": "markdown",
   "metadata": {},
   "source": [
    "## Ih vamos comecar!\n",
    "Neste projeto, será avaliado o desempenho e o poder preditivo de um modelo que foi treinado e testado em dados coletados de casas nos subúrbios de Boston, Massachusetts. Um modelo treinado sobre esses dados que é visto como um *bom ajuste* poderia então ser usado para fazer certas previsões sobre uma casa - em particular, seu valor monetário. Este modelo provaria ser inestimável para alguém como um agente imobiliário que poderia fazer uso dessas informações diariamente.\n",
    "\n",
    "O conjunto de dados deste projeto é originário do [Repositório de Machine Learning da UCI](https://archive.ics.uci.edu/ml/datasets/Housing). Os dados de habitação de Boston foram coletados em 1978 e cada uma das 506 entradas representam dados agregados sobre 14 características para casas de vários subúrbios de Boston, Massachusetts. Para efeitos deste projeto, as seguintes etapas de pré-processamento foram feitas ao conjunto de dados:\n",
    "- 16 pontos de dados têm um valor ''MEDV'' de 50,0. Esses pontos de dados provavelmente contêm valores **ausentes ou censurados** e foram removidos.\n",
    "- 1 ponto de dados tem um valor ''RM'' de 8,78. Este ponto de dados pode ser considerado um **outlier** e foi removido.\n",
    "- As características ''RM'', ''LSTAT'', ''PTRATIO'', e ''MEDV'' são essenciais. As demais características **não relevantes** foram excluídas.\n",
    "- O recurso ''MEDV'' foi **multiplicativamente dimensionado** para contabilizar 35 anos de inflação de mercado."
   ]
  },
  {
   "cell_type": "code",
   "execution_count": 1,
   "metadata": {},
   "outputs": [
    {
     "name": "stdout",
     "output_type": "stream",
     "text": [
      "O conjunto de dados de habitação de Boston tem pontos de dados 489 com variáveis 4 cada.\n"
     ]
    }
   ],
   "source": [
    "# Import libraries necessary for this project\n",
    "import numpy as np\n",
    "import pandas as pd\n",
    "from sklearn.model_selection import ShuffleSplit\n",
    "\n",
    "# Import supplementary visualizations code visuals.py\n",
    "import visuals as vs\n",
    "\n",
    "# Pretty display for notebooks\n",
    "%matplotlib inline\n",
    "\n",
    "# Load the Boston housing dataset\n",
    "data = pd.read_csv('house.csv')\n",
    "prices = data['MEDV']\n",
    "features = data.drop('MEDV', axis = 1)\n",
    "    \n",
    "# Success\n",
    "print(\"O conjunto de dados de habitação de Boston tem pontos de dados {} com variáveis {} cada.\".format(*data.shape))"
   ]
  },
  {
   "cell_type": "markdown",
   "metadata": {},
   "source": [
    "## Exploracao de dados\n",
    "Nesta primeira seção deste projeto, farei uma investigação superficial sobre os dados da habitação de Boston e fornecerei minhas observações.\n",
    "\n",
    "Como o objetivo principal deste projeto é construir um modelo de trabalho que tenha a capacidade de prever o valor das casas, precisaremos separar o conjunto de dados em **características** e a variável **target**. Os recursos *, ''RM'',, ''LSTAT'', e ''PTRATIO', nos dão informações quantitativas sobre cada ponto de dados. A variável **target**, ''MEDV'', será a variável que buscamos prever. Estes são armazenados em 'características' e 'preços', respectivamente."
   ]
  },
  {
   "cell_type": "markdown",
   "metadata": {},
   "source": [
    "### Implementacao: Calcular Estatisticas"
   ]
  },
  {
   "cell_type": "code",
   "execution_count": 2,
   "metadata": {},
   "outputs": [
    {
     "data": {
      "text/plain": [
       "105000.0"
      ]
     },
     "execution_count": 2,
     "metadata": {},
     "output_type": "execute_result"
    }
   ],
   "source": [
    "np.amin(prices)"
   ]
  },
  {
   "cell_type": "code",
   "execution_count": 3,
   "metadata": {},
   "outputs": [
    {
     "name": "stdout",
     "output_type": "stream",
     "text": [
      "Statistics for Boston housing dataset:\n",
      "\n",
      "Minimum price: $105000.0\n",
      "Maximum price: $1024800.0\n",
      "Mean price: $454342.9447852761\n",
      "Median price $438900.0\n",
      "Standard deviation of prices: $165171.13154429477\n"
     ]
    }
   ],
   "source": [
    "# Minimum price of the data\n",
    "minimum_price = np.amin(prices)\n",
    "\n",
    "# Maximum price of the data\n",
    "maximum_price = np.amax(prices)\n",
    "\n",
    "# Mean price of the data\n",
    "mean_price = np.mean(prices)\n",
    "\n",
    "# Median price of the data\n",
    "median_price = np.median(prices)\n",
    "\n",
    "# Standard deviation of prices of the data\n",
    "std_price = np.std(prices)\n",
    "\n",
    "# Show the calculated statistics\n",
    "print(\"Statistics for Boston housing dataset:\\n\")\n",
    "print(\"Minimum price: ${}\".format(minimum_price)) \n",
    "print(\"Maximum price: ${}\".format(maximum_price))\n",
    "print(\"Mean price: ${}\".format(mean_price))\n",
    "print(\"Median price ${}\".format(median_price))\n",
    "print(\"Standard deviation of prices: ${}\".format(std_price))"
   ]
  },
  {
   "cell_type": "markdown",
   "metadata": {},
   "source": [
    "## Observando as features\n",
    "\n",
    "Como lembrete, estamos usando três recursos do conjunto de dados de habitação de Boston: ''RM'', ''LSTAT'', e ''PTRATIO''. Para cada ponto de dados (bairro):\n",
    "- ''RM'' é o número médio de quartos entre as casas do bairro.\n",
    "- ''LSTAT'' é o percentual de proprietários no bairro considerado \"classe baixa\" (trabalhador pobre).\n",
    "- ''PTRATIO'' é a proporção de alunos para professores em escolas de ensino fundamental e médio do bairro."
   ]
  },
  {
   "cell_type": "markdown",
   "metadata": {},
   "source": [
    "Intuitivamente, para cada recurso eu predito o seguinte:\n",
    "\n",
    "- Casas com mais quartos (maior valor 'RM') valerão mais. Geralmente casas com mais quartos são maiores e podem caber mais pessoas, por isso é razoável que elas custam mais dinheiro. São variáveis diretamente proporcionais.\n",
    "    \n",
    "- Bairros com mais trabalhadores de classe baixa (maior valor 'LSTAT') valerão menos. Se o percentual de pessoas da classe trabalhadora mais baixa for maior, é provável que tenham baixo poder aquisitivo e, portanto, as casas custarão menos. São variáveis inversamente proporcionais.\n",
    "    \n",
    "- A proporção de bairros com mais alunos para professores (maior valor 'PTRATIO') valerá menos. Se a porcentagem de alunos para professores é maior, é provável que no bairro haja menos escolas, isso pode ser porque há menos renda de impostos que poderia ser porque naquele bairro as pessoas ganham menos dinheiro. Se as pessoas ganham menos dinheiro, é provável que suas casas valham menos. São variáveis inversamente proporcionais."
   ]
  },
  {
   "cell_type": "markdown",
   "metadata": {},
   "source": [
    "----\n",
    "\n",
    "## Desenvolvendo o modelo\n",
    "Nesta segunda seção do projeto, desenvolverei as ferramentas e técnicas necessárias para que um modelo faça uma previsão. Ser capaz de fazer avaliações precisas do desempenho de cada modelo através do uso dessas ferramentas e técnicas ajuda a reforçar muito a confiança em suas previsões."
   ]
  },
  {
   "cell_type": "markdown",
   "metadata": {},
   "source": [
    "### Implementacao: Defina uma Metrica de Desempenho\n",
    "\n",
    "É difícil medir a qualidade de um determinado modelo sem quantificar seu desempenho em relação ao treinamento e testes. Isso é normalmente feito usando algum tipo de métrica de desempenho, seja através do cálculo de algum tipo de erro, da bondade do ajuste ou de alguma outra medição útil. Para este projeto, você ill estar calculando o [*coeficiente de determinação*](http://stattrek.com/statistics/dictionary.aspx?definition=coefficient_of_determination), R<sup>2</sup>, para quantificar o desempenho do modelo. O coeficiente de determinação para um modelo é uma estatística útil na análise de regressão, pois muitas vezes descreve o quão \"bom\" esse modelo é em fazer previsões. \n",
    "\n",
    "Os valores para R<sup>2</sup> variam de 0 a 1, o que captura o percentual de correlação quadrada entre os valores previstos e reais da variável **target**. Um modelo com um R<sup>2</sup> de 0 não é melhor do que um modelo que sempre prevê a *média* da variável alvo, enquanto um modelo com um R<sup>2</sup> de 1 prevê perfeitamente a variável alvo. Qualquer valor entre 0 e 1 indica qual porcentagem da variável alvo, usando este modelo, pode ser explicado pelos recursos ***. _A modelo pode receber um R<sup>2 negativo</sup> também, o que indica que o modelo é **arbitrariamente pior** do que aquele que sempre prevê a média da meta variable._"
   ]
  },
  {
   "cell_type": "code",
   "execution_count": 4,
   "metadata": {},
   "outputs": [],
   "source": [
    "# Import 'r2_score'\n",
    "\n",
    "from sklearn.metrics import r2_score\n",
    "\n",
    "def performance_metric(y_true, y_predict):\n",
    "    \"\"\" Calcula e devolve a pontuação de desempenho entre valores verdadeiros e previstos com base na métrica escolhida. \"\"\"\n",
    "    \n",
    "    # TODO: Calculate the performance score between 'y_true' and 'y_predict'\n",
    "    score = r2_score(y_true, y_predict)\n",
    "    \n",
    "    # Return the score\n",
    "    return score"
   ]
  },
  {
   "cell_type": "markdown",
   "metadata": {},
   "source": [
    "### Implementacao: Embaralhar e Dividir Dados\n",
    "Para a próxima implementação é necessário pegar o conjunto de dados de habitação de Boston e dividir os dados em subconjuntos de treinamento e teste. Normalmente, os dados também são embaralhados em uma ordem aleatória ao criar os subconjuntos de treinamento e teste para remover qualquer viés na ordenação do conjunto de dados."
   ]
  },
  {
   "cell_type": "code",
   "execution_count": 5,
   "metadata": {},
   "outputs": [
    {
     "name": "stdout",
     "output_type": "stream",
     "text": [
      "Treinamento e divisão de testes foi bem sucedido.\n"
     ]
    }
   ],
   "source": [
    "# Import 'train_test_split'\n",
    "from sklearn.model_selection import train_test_split\n",
    "\n",
    "# Shuffle and split the data into training and testing subsets\n",
    "X_train, X_test, y_train, y_test = train_test_split(features, prices, test_size=0.2, random_state = 42)\n",
    "\n",
    "# Success\n",
    "print(\"Treinamento e divisão de testes foi bem sucedido.\")"
   ]
  },
  {
   "cell_type": "markdown",
   "metadata": {},
   "source": [
    "### Treinamento e Teste\n",
    "\n",
    "Você pode perguntar agora:\n",
    "\n",
    "* Qual é o benefício de dividir um conjunto de dados em alguma proporção de subconjuntos de treinamento e teste para um algoritmo de aprendizagem?"
   ]
  },
  {
   "cell_type": "markdown",
   "metadata": {},
   "source": [
    "É útil avaliar nosso modelo uma vez que ele é treinado. Queremos saber se ele aprendeu corretamente com uma divisão de treinamento dos dados. Pode haver 3 situações diferentes:\n",
    "\n",
    "1) O modelo não aprendeu bem sobre os dados, e não pode prever nem mesmo os resultados do conjunto de treinamento, isso é chamado de subequiptação e é causado por um viés alto.\n",
    "\n",
    "2) O modelo aprende muito bem os dados de treinamento, até o ponto em que memorizou e não é capaz de generalizar sobre novos dados, isso é chamado de overfiting, é causado porque alta variância.\n",
    "\n",
    "3) O modelo só tinha o equilíbrio certo entre viés e variância, aprendeu bem e é capaz de prever corretamente os resultados em novos dados."
   ]
  },
  {
   "cell_type": "markdown",
   "metadata": {},
   "source": [
    "----\n",
    "\n",
    "## Analisando o desempenho do modelo\n",
    "Nesta terceira seção do projeto, vamos dar uma olhada no aprendizado de vários modelos e testar desempenhos em vários subconjuntos de dados de treinamento. Além disso, investigaremos um algoritmo em particular com um parâmetro crescente de ''max_depth'' no conjunto completo de treinamento para observar como a complexidade do modelo afeta o desempenho. Gráfico do desempenho do modelo com base em critérios variados pode ser benéfico no processo de análise, como visualizar comportamentos que podem não ter sido aparentes apenas a partir dos resultados."
   ]
  },
  {
   "cell_type": "markdown",
   "metadata": {},
   "source": [
    "### Curvas de Aprendizado\n",
    "A célula de código a seguir produz quatro gráficos para um modelo de árvore de decisão com diferentes profundidades máximas. Cada gráfico visualiza as curvas de aprendizagem do modelo tanto para treinamento quanto para testes, pois o tamanho do conjunto de treinamento é aumentado. Note que a região sombreada de uma curva de aprendizado denota a incerteza dessa curva (medida como o desvio padrão). O modelo é pontuado tanto nos conjuntos de treinamento quanto de testes utilizando R<sup>2</sup>, o coeficiente de determinação.  "
   ]
  },
  {
   "cell_type": "code",
   "execution_count": 6,
   "metadata": {
    "scrolled": false
   },
   "outputs": [
    {
     "name": "stderr",
     "output_type": "stream",
     "text": [
      "/home/carlos/anaconda3/lib/python3.7/site-packages/sklearn/metrics/_regression.py:594: UndefinedMetricWarning: R^2 score is not well-defined with less than two samples.\n",
      "  warnings.warn(msg, UndefinedMetricWarning)\n",
      "/home/carlos/anaconda3/lib/python3.7/site-packages/sklearn/metrics/_regression.py:594: UndefinedMetricWarning: R^2 score is not well-defined with less than two samples.\n",
      "  warnings.warn(msg, UndefinedMetricWarning)\n",
      "/home/carlos/anaconda3/lib/python3.7/site-packages/sklearn/metrics/_regression.py:594: UndefinedMetricWarning: R^2 score is not well-defined with less than two samples.\n",
      "  warnings.warn(msg, UndefinedMetricWarning)\n",
      "/home/carlos/anaconda3/lib/python3.7/site-packages/sklearn/metrics/_regression.py:594: UndefinedMetricWarning: R^2 score is not well-defined with less than two samples.\n",
      "  warnings.warn(msg, UndefinedMetricWarning)\n",
      "/home/carlos/anaconda3/lib/python3.7/site-packages/sklearn/metrics/_regression.py:594: UndefinedMetricWarning: R^2 score is not well-defined with less than two samples.\n",
      "  warnings.warn(msg, UndefinedMetricWarning)\n",
      "/home/carlos/anaconda3/lib/python3.7/site-packages/sklearn/metrics/_regression.py:594: UndefinedMetricWarning: R^2 score is not well-defined with less than two samples.\n",
      "  warnings.warn(msg, UndefinedMetricWarning)\n",
      "/home/carlos/anaconda3/lib/python3.7/site-packages/sklearn/metrics/_regression.py:594: UndefinedMetricWarning: R^2 score is not well-defined with less than two samples.\n",
      "  warnings.warn(msg, UndefinedMetricWarning)\n",
      "/home/carlos/anaconda3/lib/python3.7/site-packages/sklearn/metrics/_regression.py:594: UndefinedMetricWarning: R^2 score is not well-defined with less than two samples.\n",
      "  warnings.warn(msg, UndefinedMetricWarning)\n",
      "/home/carlos/anaconda3/lib/python3.7/site-packages/sklearn/metrics/_regression.py:594: UndefinedMetricWarning: R^2 score is not well-defined with less than two samples.\n",
      "  warnings.warn(msg, UndefinedMetricWarning)\n",
      "/home/carlos/anaconda3/lib/python3.7/site-packages/sklearn/metrics/_regression.py:594: UndefinedMetricWarning: R^2 score is not well-defined with less than two samples.\n",
      "  warnings.warn(msg, UndefinedMetricWarning)\n",
      "/home/carlos/anaconda3/lib/python3.7/site-packages/sklearn/metrics/_regression.py:594: UndefinedMetricWarning: R^2 score is not well-defined with less than two samples.\n",
      "  warnings.warn(msg, UndefinedMetricWarning)\n",
      "/home/carlos/anaconda3/lib/python3.7/site-packages/sklearn/metrics/_regression.py:594: UndefinedMetricWarning: R^2 score is not well-defined with less than two samples.\n",
      "  warnings.warn(msg, UndefinedMetricWarning)\n",
      "/home/carlos/anaconda3/lib/python3.7/site-packages/sklearn/metrics/_regression.py:594: UndefinedMetricWarning: R^2 score is not well-defined with less than two samples.\n",
      "  warnings.warn(msg, UndefinedMetricWarning)\n",
      "/home/carlos/anaconda3/lib/python3.7/site-packages/sklearn/metrics/_regression.py:594: UndefinedMetricWarning: R^2 score is not well-defined with less than two samples.\n",
      "  warnings.warn(msg, UndefinedMetricWarning)\n",
      "/home/carlos/anaconda3/lib/python3.7/site-packages/sklearn/metrics/_regression.py:594: UndefinedMetricWarning: R^2 score is not well-defined with less than two samples.\n",
      "  warnings.warn(msg, UndefinedMetricWarning)\n",
      "/home/carlos/anaconda3/lib/python3.7/site-packages/sklearn/metrics/_regression.py:594: UndefinedMetricWarning: R^2 score is not well-defined with less than two samples.\n",
      "  warnings.warn(msg, UndefinedMetricWarning)\n",
      "/home/carlos/anaconda3/lib/python3.7/site-packages/sklearn/metrics/_regression.py:594: UndefinedMetricWarning: R^2 score is not well-defined with less than two samples.\n",
      "  warnings.warn(msg, UndefinedMetricWarning)\n",
      "/home/carlos/anaconda3/lib/python3.7/site-packages/sklearn/metrics/_regression.py:594: UndefinedMetricWarning: R^2 score is not well-defined with less than two samples.\n",
      "  warnings.warn(msg, UndefinedMetricWarning)\n",
      "/home/carlos/anaconda3/lib/python3.7/site-packages/sklearn/metrics/_regression.py:594: UndefinedMetricWarning: R^2 score is not well-defined with less than two samples.\n",
      "  warnings.warn(msg, UndefinedMetricWarning)\n",
      "/home/carlos/anaconda3/lib/python3.7/site-packages/sklearn/metrics/_regression.py:594: UndefinedMetricWarning: R^2 score is not well-defined with less than two samples.\n",
      "  warnings.warn(msg, UndefinedMetricWarning)\n",
      "/home/carlos/anaconda3/lib/python3.7/site-packages/sklearn/metrics/_regression.py:594: UndefinedMetricWarning: R^2 score is not well-defined with less than two samples.\n",
      "  warnings.warn(msg, UndefinedMetricWarning)\n",
      "/home/carlos/anaconda3/lib/python3.7/site-packages/sklearn/metrics/_regression.py:594: UndefinedMetricWarning: R^2 score is not well-defined with less than two samples.\n",
      "  warnings.warn(msg, UndefinedMetricWarning)\n",
      "/home/carlos/anaconda3/lib/python3.7/site-packages/sklearn/metrics/_regression.py:594: UndefinedMetricWarning: R^2 score is not well-defined with less than two samples.\n",
      "  warnings.warn(msg, UndefinedMetricWarning)\n",
      "/home/carlos/anaconda3/lib/python3.7/site-packages/sklearn/metrics/_regression.py:594: UndefinedMetricWarning: R^2 score is not well-defined with less than two samples.\n",
      "  warnings.warn(msg, UndefinedMetricWarning)\n",
      "/home/carlos/anaconda3/lib/python3.7/site-packages/sklearn/metrics/_regression.py:594: UndefinedMetricWarning: R^2 score is not well-defined with less than two samples.\n",
      "  warnings.warn(msg, UndefinedMetricWarning)\n",
      "/home/carlos/anaconda3/lib/python3.7/site-packages/sklearn/metrics/_regression.py:594: UndefinedMetricWarning: R^2 score is not well-defined with less than two samples.\n",
      "  warnings.warn(msg, UndefinedMetricWarning)\n",
      "/home/carlos/anaconda3/lib/python3.7/site-packages/sklearn/metrics/_regression.py:594: UndefinedMetricWarning: R^2 score is not well-defined with less than two samples.\n",
      "  warnings.warn(msg, UndefinedMetricWarning)\n",
      "/home/carlos/anaconda3/lib/python3.7/site-packages/sklearn/metrics/_regression.py:594: UndefinedMetricWarning: R^2 score is not well-defined with less than two samples.\n",
      "  warnings.warn(msg, UndefinedMetricWarning)\n",
      "/home/carlos/anaconda3/lib/python3.7/site-packages/sklearn/metrics/_regression.py:594: UndefinedMetricWarning: R^2 score is not well-defined with less than two samples.\n",
      "  warnings.warn(msg, UndefinedMetricWarning)\n",
      "/home/carlos/anaconda3/lib/python3.7/site-packages/sklearn/metrics/_regression.py:594: UndefinedMetricWarning: R^2 score is not well-defined with less than two samples.\n",
      "  warnings.warn(msg, UndefinedMetricWarning)\n",
      "/home/carlos/anaconda3/lib/python3.7/site-packages/sklearn/metrics/_regression.py:594: UndefinedMetricWarning: R^2 score is not well-defined with less than two samples.\n",
      "  warnings.warn(msg, UndefinedMetricWarning)\n",
      "/home/carlos/anaconda3/lib/python3.7/site-packages/sklearn/metrics/_regression.py:594: UndefinedMetricWarning: R^2 score is not well-defined with less than two samples.\n",
      "  warnings.warn(msg, UndefinedMetricWarning)\n",
      "/home/carlos/anaconda3/lib/python3.7/site-packages/sklearn/metrics/_regression.py:594: UndefinedMetricWarning: R^2 score is not well-defined with less than two samples.\n",
      "  warnings.warn(msg, UndefinedMetricWarning)\n",
      "/home/carlos/anaconda3/lib/python3.7/site-packages/sklearn/metrics/_regression.py:594: UndefinedMetricWarning: R^2 score is not well-defined with less than two samples.\n",
      "  warnings.warn(msg, UndefinedMetricWarning)\n",
      "/home/carlos/anaconda3/lib/python3.7/site-packages/sklearn/metrics/_regression.py:594: UndefinedMetricWarning: R^2 score is not well-defined with less than two samples.\n",
      "  warnings.warn(msg, UndefinedMetricWarning)\n",
      "/home/carlos/anaconda3/lib/python3.7/site-packages/sklearn/metrics/_regression.py:594: UndefinedMetricWarning: R^2 score is not well-defined with less than two samples.\n",
      "  warnings.warn(msg, UndefinedMetricWarning)\n",
      "/home/carlos/anaconda3/lib/python3.7/site-packages/sklearn/metrics/_regression.py:594: UndefinedMetricWarning: R^2 score is not well-defined with less than two samples.\n",
      "  warnings.warn(msg, UndefinedMetricWarning)\n",
      "/home/carlos/anaconda3/lib/python3.7/site-packages/sklearn/metrics/_regression.py:594: UndefinedMetricWarning: R^2 score is not well-defined with less than two samples.\n",
      "  warnings.warn(msg, UndefinedMetricWarning)\n",
      "/home/carlos/anaconda3/lib/python3.7/site-packages/sklearn/metrics/_regression.py:594: UndefinedMetricWarning: R^2 score is not well-defined with less than two samples.\n",
      "  warnings.warn(msg, UndefinedMetricWarning)\n",
      "/home/carlos/anaconda3/lib/python3.7/site-packages/sklearn/metrics/_regression.py:594: UndefinedMetricWarning: R^2 score is not well-defined with less than two samples.\n",
      "  warnings.warn(msg, UndefinedMetricWarning)\n"
     ]
    },
    {
     "name": "stderr",
     "output_type": "stream",
     "text": [
      "/home/carlos/Desktop/MachLab/visuals.py:68: UserWarning: Matplotlib is currently using module://ipykernel.pylab.backend_inline, which is a non-GUI backend, so cannot show the figure.\n",
      "  fig.show()\n"
     ]
    },
    {
     "data": {
      "image/png": "[encoded data removed]",
      "text/plain": [
       "<Figure size 720x504 with 4 Axes>"
      ]
     },
     "metadata": {
      "needs_background": "light"
     },
     "output_type": "display_data"
    }
   ],
   "source": [
    "# Produce learning curves for varying training set sizes and maximum depths\n",
    "vs.ModelLearning(features, prices)"
   ]
  },
  {
   "cell_type": "markdown",
   "metadata": {},
   "source": [
    "### Aprendendo os dados"
   ]
  },
  {
   "cell_type": "markdown",
   "metadata": {},
   "source": [
    "Se dermos uma olhada de perto no gráfico com a profundidade máxima de 3:\n",
    "\n",
    "- À medida que o número de pontos de treinamento aumenta, a pontuação do treinamento diminui. Em contraste, a pontuação do teste aumenta.\n",
    "\n",
    "- Como ambas as pontuações (treinamento e testes) tendem a convergir, a partir dos 300 pontos, ter mais pontos de treinamento não beneficiará o modelo.\n",
    "\n",
    "- (Pergunta extra): Em geral, com mais colunas para cada observação, vamos obter mais informações e o modelo poderá aprender melhor com o conjunto de dados e, portanto, fazer melhores previsões."
   ]
  },
  {
   "cell_type": "markdown",
   "metadata": {},
   "source": [
    "### Curvas de Complexidade\n",
    "A célula de código a seguir produz um gráfico para um modelo de árvore de decisão que foi treinado e validado nos dados de treinamento usando diferentes profundidades máximas. O gráfico produz duas curvas de complexidade — uma para treinamento e outra para validação. Semelhante às curvas de aprendizagem ***, as regiões sombreadas de ambas as curvas de complexidade denotam a incerteza nessas curvas, e o modelo é pontuado tanto nos conjuntos de treinamento quanto de validação usando a função 'performance_metric'.  "
   ]
  },
  {
   "cell_type": "code",
   "execution_count": 7,
   "metadata": {},
   "outputs": [
    {
     "data": {
      "image/png": "[encoded data removed]",
      "text/plain": [
       "<Figure size 504x360 with 1 Axes>"
      ]
     },
     "metadata": {
      "needs_background": "light"
     },
     "output_type": "display_data"
    }
   ],
   "source": [
    "vs.ModelComplexity(X_train, y_train)"
   ]
  },
  {
   "cell_type": "markdown",
   "metadata": {},
   "source": [
    "### Bias-Varince Tradeoff\n",
    "\n",
    "Se analizarmos como a variância de viés varia com a profundidade máxima, podemos inferir que:"
   ]
  },
  {
   "cell_type": "markdown",
   "metadata": {},
   "source": [
    "- Com a profundidade máxima de um, o gráfico mostra que o modelo não retorna uma boa pontuação nem em dados de treinamento nem teste, que é um sintoma de subajuste e, portanto, viés elevado. Para melhorar o desempenho, devemos aumentar a complexidade do modelo, neste caso aumentando o max_depth hiperparmetro para obter melhores resultados.\n",
    "\n",
    "- Com a profundidade máxima de dez, o gráfico mostra que o modelo aprende perfeitamente bem com dados de treinamento (com uma pontuação próxima a uma) e também retorna resultados ruins em dados de teste, que é um indicador de excesso de adaptação, não sendo capaz de generalizar bem em novos dados. Este é um problema de Alta Variância. Para melhorar o desempenho, devemos diminuir a complexidade do modelo, neste caso diminuindo o max_depth hiperparmetro para obter melhores resultados."
   ]
  },
  {
   "cell_type": "markdown",
   "metadata": {},
   "source": [
    "### Melhor-Palpite Modelo Ideal"
   ]
  },
  {
   "cell_type": "markdown",
   "metadata": {},
   "source": [
    "A partir da curva de complexidade, podemos inferir que a melhor profundidade máxima para o modelo é 4, pois é a que rende a melhor pontuação de validação.\n",
    "\n",
    "Além disso, para maior profundidade, embora o escore de treinamento aumente, a pontuação de validação tende a diminuir, o que é um sinal de excesso de adaptação."
   ]
  },
  {
   "cell_type": "markdown",
   "metadata": {},
   "source": [
    "-----\n",
    "\n",
    "## Avaliação do desempenho do modelo\n",
    "Nesta seção final do projeto, construiremos um modelo e faremos uma previsão sobre o conjunto de recursos do cliente usando um modelo otimizado de 'fit_model'."
   ]
  },
  {
   "cell_type": "markdown",
   "metadata": {},
   "source": [
    "### Grid Search\n",
    "* Qual é a técnica de grid search?\n",
    "* Como ele pode ser aplicado para otimizar um algoritmo de aprendizagem?"
   ]
  },
  {
   "cell_type": "markdown",
   "metadata": {},
   "source": [
    "A técnica de grid search gera exaustivamente os candidatos a partir de uma grade de valores de parâmetros especificados com o parâmetro param_grid, que é um dicionário com os valores dos hiperparmetros para avaliar. Um epíple pode ser:\n",
    "\n",
    "param_grid =\n",
    "  {'C': [1, 10, 100, 1000], 'kernel': ['linear'},\n",
    "  {'C': [1, 10, 100, 1000], 'gama': [0,001, 0,0001], 'kernel': ['rbf'},\n",
    " ]\n",
    " \n",
    "Neste exemplo, duas grids devem ser exploradas: uma com um núcleo linear de valores C de [1.10,100.1000], e a segunda com um kernel RBF, e a cruz de valores C variando em [1, 10, 100, 1000] e valores gama em [0,001, 0,0001].\n",
    "\n",
    "Ao montagem em um conjunto de dados todas as combinações possíveis de valores de parâmetros são avaliadas e a melhor combinação é retida."
   ]
  },
  {
   "cell_type": "markdown",
   "metadata": {},
   "source": [
    "### Cross-Validation\n",
    "\n",
    "* Qual é a técnica de treinamento de validação cruzada k-fold? \n",
    "\n",
    "* Qual o benefício dessa técnica para a busca na grade ao otimizar um modelo?"
   ]
  },
  {
   "cell_type": "markdown",
   "metadata": {},
   "source": [
    "K-fold validação cruzada é uma técnica usada para garantir que nosso modelo seja bem treinado, sem usar o conjunto de testes. Consiste em dividir dados em divisórias k de tamanho igual. Para cada partição i, treinamos o modelo nos parâmetros k-1 restantes e avaliamos-no em partição i. A pontuação final é a média dos pontos K obtidos.\n",
    "\n",
    "Ao avaliar diferentes hiperparmetros para estimadores, ainda há o risco de superequipamento no conjunto de testes, pois os parâmetros podem ser ajustados até que o estimador funcione de forma ideal. Dessa forma, o conhecimento sobre o conjunto de testes pode \"vazar\" no modelo e as métricas de avaliação não informam mais sobre o desempenho de generalização. Para resolver esse problema, outra parte do conjunto de dados pode ser mantida como um chamado \"conjunto de validação\": o treinamento prossegue no conjunto de treinamento, após o qual a avaliação é feita no conjunto de validação, e quando o experimento parece ter sucesso, a avaliação final pode ser feita no conjunto de testes.\n",
    "\n",
    "No entanto, particionando os dados disponíveis em três conjuntos (conjuntos de treinamento, validação e testes), reduzimos drasticamente o número de amostras que podem ser usadas para aprender o modelo, e o modelo resultante pode não ser suficientemente bem treinado (subequipar).\n",
    "\n",
    "Usando a validação k-fold, garantimos que o modelo use todos os dados de treinamento disponíveis para sintonizar o modelo, ele pode ser computacionalmente caro, mas permite treinar modelos mesmo que poucos dados estejam disponíveis.\n",
    "\n",
    "O principal objetivo da validação k-fold é obter uma estimativa imparcial da generalização do modelo em novos dados."
   ]
  },
  {
   "cell_type": "markdown",
   "metadata": {},
   "source": [
    "### Implementacao: Treinando o modelo\n",
    "A implementação final exige que unamos tudo e treinemos um modelo usando o algoritmo da árvore de decisão**. Para garantir que estamos produzindo um modelo otimizado, treinaremos o modelo usando a técnica de busca de grade para otimizar o parâmetro ''max_depth'' para a árvore de decisão. O parâmetro ''max_depth'' pode ser pensado como quantas perguntas o algoritmo da árvore de decisão pode fazer sobre os dados antes de fazer uma previsão. As árvores de decisão fazem parte de uma classe de algoritmos chamados algoritmos de aprendizagem supervisionados*.\n",
    "\n",
    "Além disso, descobriremos que sua implementação está usando 'ShuffleSplit()' para uma forma alternativa de validação cruzada (veja a variável ''cv_sets'). A implementação 'ShuffleSplit()' abaixo criará 10 conjuntos embaralhados (''n_splits'') embaralhados, e para cada embaralhado, 20% (''test_size'') dos dados serão usados como o conjunto *validação*.\n"
   ]
  },
  {
   "cell_type": "code",
   "execution_count": 8,
   "metadata": {},
   "outputs": [],
   "source": [
    "# Import 'make_scorer', 'DecisionTreeRegressor', and 'GridSearchCV'\n",
    "from sklearn.tree import DecisionTreeRegressor\n",
    "from sklearn.metrics import make_scorer\n",
    "from sklearn.model_selection import GridSearchCV\n",
    "\n",
    "def fit_model(X, y):\n",
    "    \"\"\" Performs grid search over the 'max_depth' parameter for a decision tree regressor trained on the input data [X, y]. \"\"\"\n",
    "    \n",
    "    # Create cross-validation sets from the training data\n",
    "    cv_sets = ShuffleSplit(n_splits = 10, test_size = 0.20, random_state = 0)\n",
    "\n",
    "    # Create a decision tree regressor object\n",
    "    regressor = DecisionTreeRegressor()\n",
    "\n",
    "    # Create a dictionary for the parameter 'max_depth' with a range from 1 to 10\n",
    "    params = {'max_depth':[1,2,3,4,5,6,7,8,9,10]}\n",
    "\n",
    "    # Transform 'performance_metric' into a scoring function using 'make_scorer' \n",
    "    scoring_fnc = make_scorer(performance_metric)\n",
    "\n",
    "    # Create the grid search cv object --> GridSearchCV()\n",
    "    # Make sure to include the right parameters in the object:\n",
    "    # (estimator, param_grid, scoring, cv) which have values 'regressor', 'params', 'scoring_fnc', and 'cv_sets' respectively.\n",
    "    grid = GridSearchCV(estimator=regressor, param_grid=params, scoring=scoring_fnc, cv=cv_sets)\n",
    "\n",
    "    # Fit the grid search object to the data to compute the optimal model\n",
    "    grid = grid.fit(X, y)\n",
    "\n",
    "    # Return the optimal model after fitting the data\n",
    "    return grid.best_estimator_"
   ]
  },
  {
   "cell_type": "markdown",
   "metadata": {},
   "source": [
    "### Fazendo Previsoes\n",
    "Uma vez que um modelo tenha sido treinado em um determinado conjunto de dados, ele agora pode ser usado para fazer previsões sobre novos conjuntos de dados de entrada. No caso de um *regressor de árvore de decisão*, o modelo aprendeu *quais são as melhores perguntas a fazer sobre os dados de entrada*, e pode responder com uma previsão para a variável **target**. Podemos usar essas previsões para obter informações sobre dados onde o valor da variável alvo é desconhecido — como dados em que o modelo não foi treinado."
   ]
  },
  {
   "cell_type": "markdown",
   "metadata": {},
   "source": [
    "### Modelo Otimo\n",
    "\n",
    "* Que profundidade máxima o modelo ideal tem? "
   ]
  },
  {
   "cell_type": "code",
   "execution_count": 9,
   "metadata": {
    "scrolled": true
   },
   "outputs": [
    {
     "name": "stdout",
     "output_type": "stream",
     "text": [
      "O parâmetro 'max_depth' é 4 para o modelo ideal.\n"
     ]
    }
   ],
   "source": [
    "# Fit the training data to the model using grid search\n",
    "reg = fit_model(X_train, y_train)\n",
    "\n",
    "# Produce the value for 'max_depth'\n",
    "print(\"O parâmetro 'max_depth' é {} para o modelo ideal.\".format(reg.get_params()['max_depth']))"
   ]
  },
  {
   "cell_type": "markdown",
   "metadata": {},
   "source": [
    "### Prever precos de venda\n",
    "Imagine que éramos um agente imobiliário na área de Boston procurando usar este modelo para ajudar a precificar casas de propriedade de nossos clientes que eles desejam vender. Você coletou as seguintes informações de três de seus clientes:\n",
    "\n",
    "| Característica | Cliente 1 | Cliente 2 | Cliente 3 |\n",
    "| :---: | :---: | :---: | :---: |\n",
    "| Número total de quartos em casa | 5 quartos | 4 quartos | 8 quartos |\n",
    "| Nível de pobreza de bairro (como %) | 17% | 32% | 3% |\n",
    "| Relação aluno-professor de escolas próximas | 15 para 1 | 22 para 1 | 12 para 1 |\n",
    "\n",
    "* A que preço recomendaríamos que cada cliente vendesse sua casa? \n",
    "* Esses preços parecem razoáveis dado os valores para as respectivas características? "
   ]
  },
  {
   "cell_type": "code",
   "execution_count": 10,
   "metadata": {},
   "outputs": [
    {
     "name": "stdout",
     "output_type": "stream",
     "text": [
      "Preço de venda previsto para a casa do cliente 1: $403,025.00\n",
      "Preço de venda previsto para a casa do cliente 2: $237,478.72\n",
      "Preço de venda previsto para a casa do cliente 3: $931,636.36\n"
     ]
    }
   ],
   "source": [
    "# Produce a matrix for client data\n",
    "client_data = [[5, 17, 15], # Client 1\n",
    "               [4, 32, 22], # Client 2\n",
    "               [8, 3, 12]]  # Client 3\n",
    "\n",
    "# Show predictions\n",
    "for i, price in enumerate(reg.predict(client_data)):\n",
    "    print(\"Preço de venda previsto para a casa do cliente {}: ${:,.2f}\".format(i+1, price))"
   ]
  },
  {
   "cell_type": "markdown",
   "metadata": {},
   "source": [
    "**Resposta: **\n",
    "\n",
    "Os preços de venda previstos são:\n",
    "\n",
    "- Para a casa do Cliente 1: $403.025,00\n",
    "\n",
    "- Para a casa do Cliente 2: $237.478,72\n",
    "\n",
    "- Para a casa do Cliente 3: $931.636.36\n",
    "\n",
    "A partir da questão 1, obtivemos as seguintes estatísticas:\n",
    "\n",
    "- Preço mínimo: $105000.0\n",
    "\n",
    "- Preço máximo: $1024800.0\n",
    "\n",
    "- Preço médio: $454342.9447852761\n",
    "\n",
    "- Preço médio $438900.0\n",
    "\n",
    "- Desvio padrão de preços: $165340.27765266786\n",
    "\n",
    "Dado esses valores, podemos concluir:\n",
    "\n",
    "- O preço de venda do cliente 3 está próximo do milhão de dólares, que está perto do máximo do conjunto de dados. Este é um preço razoável por causa de suas características (8 quartos, nível de pobreza muito baixo e baixa relação aluno-professor), a casa pode estar em um bairro rico.\n",
    "\n",
    "- O preço de venda para o cliente 2 é o mais baixo dos três e dado que suas características são razoáveis, pois está perto do mínimo do conjunto de dados.\n",
    "\n",
    "- Para o cliente 1, podemos ver que suas características são intermediárias entre as últimas 2 e, portanto, seu preço é bastante próximo da média e mediana.\n",
    "\n",
    "Como indicado na Questão 1:\n",
    "\n",
    "- 'RM', tem relação direta proporcional com a variável dependente 'Preços'.\n",
    "- Em contrapartida, 'LSTAT' e 'PTRATIO' têm uma relação inversamente proporcional com a variável dependente 'PRICES'."
   ]
  },
  {
   "cell_type": "markdown",
   "metadata": {},
   "source": [
    "### Sensibilidade\n",
    "Um modelo ideal não é necessariamente um modelo robusto. Às vezes, um modelo é muito complexo ou muito simples para generalizar suficientemente novos dados. Às vezes, um modelo poderia usar um algoritmo de aprendizagem que não é apropriado para a estrutura dos dados dados. Outras vezes, os dados em si podem ser muito barulhentos ou conter poucas amostras para permitir que um modelo capture adequadamente a variável alvo — ou seja, o modelo é subjustificado. \n",
    "\n",
    "**A célula de código abaixo executa a função 'fit_model' dez vezes com diferentes conjuntos de treinamento e testes para ver como a previsão para um cliente específico muda em relação aos dados em que é treinado.**"
   ]
  },
  {
   "cell_type": "code",
   "execution_count": 11,
   "metadata": {},
   "outputs": [
    {
     "name": "stdout",
     "output_type": "stream",
     "text": [
      "Trial 1: $391,183.33\n",
      "Trial 2: $419,700.00\n",
      "Trial 3: $415,800.00\n",
      "Trial 4: $420,622.22\n",
      "Trial 5: $418,377.27\n",
      "Trial 6: $411,931.58\n",
      "Trial 7: $399,663.16\n",
      "Trial 8: $407,232.00\n",
      "Trial 9: $351,577.61\n",
      "Trial 10: $413,700.00\n",
      "\n",
      "Range in prices: $69,044.61\n"
     ]
    }
   ],
   "source": [
    "vs.PredictTrials(features, prices, fit_model, client_data)"
   ]
  },
  {
   "cell_type": "markdown",
   "metadata": {},
   "source": [
    "### Aplicabilidade\n",
    "\n",
    "Agora, usamos esses resultados para discutir se o modelo construído deve ou não ser usado em um cenário do mundo real. Algumas perguntas que valem a pena responder: \n",
    "\n",
    "- Quão relevantes hoje são os dados coletados de 1978? Qual é a importância da inflação?\n",
    "- As características presentes nos dados são suficientes para descrever uma casa? Você acha que fatores como qualidade de apliques em casa, metros quadrados da área do enredo, presença de piscina ou não etc deve fatorar?\n",
    "- O modelo é robusto o suficiente para fazer previsões consistentes?\n",
    "- Os dados coletados em uma cidade urbana como Boston seriam aplicáveis em uma cidade rural?\n",
    "- É justo julgar o preço de uma casa individual com base nas características de todo o bairro?"
   ]
  },
  {
   "cell_type": "markdown",
   "metadata": {},
   "source": [
    "**Resposta: **\n",
    "\n",
    "Obtivemos uma faixa de preços de quase 70k$, acredito que este é um desvio bastante grande, pois representa aproximadamente 17% do valor médio dos preços das casas. Por causa disso, o modelo não deve ser usado em um cenário do mundo real.\n",
    "\n",
    "- Os dados coletados de 1978 não têm muito valor no mundo atual, a sociedade e a economia mudaram tanto e, em geral, a inflação tem impactado muito os preços.\n",
    "\n",
    "- O conjunto de dados considerado é bastante limitado, há uma série de características como o tamanho da casa em metros quadrados, a presença de piscina ou não e outras, que são muito relevantes quando se considera um preço de casa.\n",
    "\n",
    "- Dada a alta variância na faixa do príncipe, podemos garantir que não é um modelo robusto e, portanto, não appropia para fazer previsões.\n",
    "\n",
    "- Dados coletados de uma grande cidade urbana como Boston não seriam aplicáveis em uma cidade rural, pois pelo mesmo valor dos feaures os preços são muito mais elevados na área urbana.\n",
    "\n",
    "- Em geral, não é justo estimar ou prever o preço de uma casa simples com base nas características de todo o bairro. No mesmo bairro pode haver enormes diferenças de preços."
   ]
  }
 ],
 "metadata": {
  "anaconda-cloud": {},
  "kernelspec": {
   "display_name": "Python 3",
   "language": "python",
   "name": "python3"
  },
  "language_info": {
   "codemirror_mode": {
    "name": "ipython",
    "version": 3
   },
   "file_extension": ".py",
   "mimetype": "text/x-python",
   "name": "python",
   "nbconvert_exporter": "python",
   "pygments_lexer": "ipython3",
   "version": "3.7.9"
  }
 },
 "nbformat": 4,
 "nbformat_minor": 1
}
